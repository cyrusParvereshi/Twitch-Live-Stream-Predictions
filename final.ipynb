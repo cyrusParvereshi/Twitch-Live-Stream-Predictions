{
 "cells": [
  {
   "cell_type": "code",
   "execution_count": 21,
   "id": "4b30a2ae-e983-4d7c-8c33-a29f153f2a9b",
   "metadata": {},
   "outputs": [],
   "source": [
    "# from data_cleaning import data_clean\n",
    "# from feature_selection import get_feature_scores\n",
    "import pandas as pd\n",
    "import matplotlib.pyplot as plt\n",
    "from sklearn.linear_model import LinearRegression as LR\n",
    "from sklearn.feature_selection import SelectKBest, f_regression\n",
    "from sklearn.model_selection import train_test_split, GridSearchCV\n",
    "from sklearn.pipeline import Pipeline\n",
    "from sklearn.compose import ColumnTransformer\n",
    "from sklearn.preprocessing import OneHotEncoder, StandardScaler, FunctionTransformer\n",
    "from sklearn.impute import SimpleImputer\n",
    "import numpy as np\n",
    "from sklearn.feature_selection import SelectKBest, f_regression\n",
    "from sklearn.linear_model import LinearRegression\n",
    "from sklearn.ensemble import RandomForestRegressor\n",
    "from sklearn.metrics import mean_absolute_error,  r2_score\n",
    "from crawl_twitch import setup, get_oauth_token, save_streams_to_csv\n",
    "from merge_runs import create_raw_csv\n",
    "from sklearn.neural_network import MLPRegressor\n",
    "import tensorflow as tf\n",
    "from tensorflow import keras\n",
    "from data_cleaning import data_clean"
   ]
  },
  {
   "cell_type": "markdown",
   "id": "b4533a2b-72a1-4668-8163-d0a30f1f3d34",
   "metadata": {},
   "source": [
    "If you like, you can create a twitch app in the API and grab some fresh data and concatenate entire dataset into twitch_streams_latest.csv:"
   ]
  },
  {
   "cell_type": "code",
   "execution_count": 133,
   "id": "ef2b0af8-7efd-4938-a1eb-4188557422fd",
   "metadata": {},
   "outputs": [
    {
     "name": "stdout",
     "output_type": "stream",
     "text": [
      " Getting Twitch livestream snapshot (2025-06-09T19:37:16.426253)...\n"
     ]
    },
    {
     "name": "stderr",
     "output_type": "stream",
     "text": [
      "1265page  [02:55,  7.21page /s, streams=126158]\n"
     ]
    },
    {
     "name": "stdout",
     "output_type": "stream",
     "text": [
      "Finished. Fetched 126158 streams across 1265 pages.\n",
      "Saved snapshot to C:\\Users\\Cyrus\\Documents\\school\\Machine_Learning_SCU\\Final Project\\data\\all-2025-06-09-12-37-16.csv\n",
      "Merged CSV saved to C:\\Users\\Cyrus\\Documents\\school\\Machine_Learning_SCU\\Final Project\\data\\twitch_streams_latest.csv\n",
      "Merged 14 snapshots, resulting in 885133 unique streams.\n"
     ]
    }
   ],
   "source": [
    "client_id, client_secret = setup()\n",
    "oauth_token = get_oauth_token(client_id, client_secret)\n",
    "save_streams_to_csv(\"all\", client_id, oauth_token)\n",
    "create_raw_csv()"
   ]
  },
  {
   "cell_type": "markdown",
   "id": "1caa93df-1ab7-4b1d-a2a1-fb0239a39850",
   "metadata": {},
   "source": [
    "Functions for data cleaning, preprocessing and feature extraction/selection"
   ]
  },
  {
   "cell_type": "code",
   "execution_count": 136,
   "id": "2dd67640-6eca-4c8a-84a2-2b590965846e",
   "metadata": {},
   "outputs": [],
   "source": [
    "#these functions are copied here from their individual files (i.e. data_clean.py). They are identical, and just here for your viewing convenience. \n",
    "def load_and_prepare_df(path):\n",
    "    df = pd.read_csv(path)\n",
    "    # Rename target column\n",
    "    df.rename(columns={\"viewer_count\": \"current_viewers\"}, inplace=True)\n",
    "    # Convert timestamps\n",
    "    df[\"started_at\"] = pd.to_datetime(df[\"started_at\"], utc = True, errors = \"coerce\")\n",
    "    df[\"snapshot_time\"] = pd.to_datetime(df[\"snapshot_time\"], utc = True, errors=\"coerce\")\n",
    "    # Remove \"Special Events\" and \"Just Chatting\"\n",
    "    df = df[~df['game_name'].isin([\"Special Events\", \"Just Chatting\",\"Summer Game Fest\"])]\n",
    "    # Remove rows with bad timestamps or missing viewers\n",
    "    df = df.dropna(subset=[\"current_viewers\", \"started_at\", \"snapshot_time\"])\n",
    "    # Feature engineering: duration in minutes\n",
    "    df[\"duration_min\"] = (\n",
    "        df[\"snapshot_time\"] - df[\"started_at\"]\n",
    "    ).dt.total_seconds() / 60\n",
    "    # Only keep positive durations and viewer counts\n",
    "    df = df[(df[\"duration_min\"] > 0) & (df[\"current_viewers\"] > 0)]\n",
    "    # limit the number of games we look at because there's over 9000.\n",
    "    top_games = df['game_name'].value_counts().nlargest(280).index\n",
    "    df['game_name'] = df['game_name'].where(df['game_name'].isin(top_games), 'Other')\n",
    "    #drop columns that we know won't can't be used in analysis  \n",
    "    drop_cols = [\n",
    "        \"id\",\n",
    "        \"game_id\",\n",
    "        \"type\",\n",
    "        \"title\",\n",
    "        \"user_id\",\n",
    "        \"user_login\",\n",
    "        \"user_name\",\n",
    "        \"thumbnail_url\",\n",
    "        \"snapshot_time\",\n",
    "        \"started_at\",\n",
    "    ]\n",
    "    df = df.drop(columns=drop_cols)\n",
    "    df['log_current_viewers'] = np.log1p(df['current_viewers']) #stdize these for regression models\n",
    "    return df.reset_index(drop=True)\n",
    "\n",
    "def remove_ingest_canary(df):\n",
    "    \"\"\"Remove rows where user_login starts with 'ingest_canary'.\"\"\"\n",
    "    if \"user_login\" in df.columns:\n",
    "        mask = ~df[\"user_login\"].str.startswith(\"ingest_canary\", na=False)\n",
    "        df = df[mask].reset_index(drop=True)\n",
    "    return df"
   ]
  },
  {
   "cell_type": "code",
   "execution_count": 135,
   "id": "2962c4a3-696a-4d3c-a5a1-e484a3c48e9c",
   "metadata": {},
   "outputs": [],
   "source": [
    "def get_feature_pipeline(df):\n",
    "    # Identify features\n",
    "    numeric_features = [\"duration_min\"]\n",
    "    categorical_features = [\"language\", \"game_name\", \"is_mature\"]\n",
    "    # Pipelines\n",
    "    numeric_pipeline = Pipeline(\n",
    "        [(\"imputer\", SimpleImputer(strategy=\"mean\")), \n",
    "        (\"scaler\", StandardScaler())]\n",
    "    )\n",
    "    categorical_pipeline = Pipeline(\n",
    "        [\n",
    "            (\"imputer\", SimpleImputer(strategy=\"constant\", fill_value=\"missing\")),\n",
    "            (\"onehot\", OneHotEncoder(handle_unknown=\"ignore\", sparse_output=True)),        ]\n",
    "    )\n",
    "    preprocessor = ColumnTransformer(\n",
    "        transformers=[\n",
    "            (\"num\", numeric_pipeline, numeric_features),\n",
    "            (\"cat\", categorical_pipeline, categorical_features),\n",
    "        ]\n",
    "    )\n",
    "    return preprocessor, numeric_features, categorical_features"
   ]
  },
  {
   "cell_type": "code",
   "execution_count": 51,
   "id": "c7163fe5-5f9e-41a0-8a70-158301c670e5",
   "metadata": {},
   "outputs": [],
   "source": [
    "def data_clean():\n",
    "    df = load_and_prepare_df(\"data/twitch_streams_latest.csv\")\n",
    "    df = remove_ingest_canary(df)  # remove fake streams\n",
    "    X = df.drop(columns=[\"current_viewers\"])\n",
    "    y = df[\"current_viewers\"]\n",
    "    # Split first (to avoid data leakage)\n",
    "    X_train, X_test, y_train, y_test = train_test_split(\n",
    "        X, y, test_size=0.2, random_state=42\n",
    "    )\n",
    "    # Build pipeline\n",
    "    preprocessor, numeric_features, categorical_features = get_feature_pipeline(df)\n",
    "    full_pipeline = Pipeline([(\"preprocessor\", preprocessor)])\n",
    "\n",
    "    # Fit transform X_train, only transform X_test\n",
    "    X_train_pre = full_pipeline.fit_transform(X_train)\n",
    "    X_test_pre = full_pipeline.transform(X_test)\n",
    "    # For reference: get feature names after encoding\n",
    "    cat_feature_names = (\n",
    "        full_pipeline.named_steps[\"preprocessor\"]\n",
    "        .named_transformers_[\"cat\"]\n",
    "        .named_steps[\"onehot\"]\n",
    "        .get_feature_names_out(categorical_features)\n",
    "    )\n",
    "    feature_names = list(numeric_features) + list(cat_feature_names)\n",
    "    print(\"Preprocessing complete. Shapes:\")\n",
    "    print(\"X_train_pre:\", X_train_pre.shape)\n",
    "    print(\"X_test_pre:\", X_test_pre.shape)\n",
    "    print(\"y_train:\", y_train.shape)\n",
    "    print(\"y_test:\", y_test.shape)\n",
    "    print(\"Feature names:\", feature_names[:10], \"...\")\n",
    "    return X_train_pre, X_test_pre, y_train, y_test, feature_names, full_pipeline,  X_train, X_test"
   ]
  },
  {
   "cell_type": "code",
   "execution_count": 52,
   "id": "038cbbf1-5843-4d2d-85ab-4112449e6431",
   "metadata": {},
   "outputs": [],
   "source": [
    "def get_feature_scores(X, y, k = 10, threshold=1.0):\n",
    "    selector = SelectKBest(score_func=f_regression, k='all')\n",
    "    selector.fit(X, y)\n",
    "    feature_scores = pd.Series(selector.scores_, index=X.columns)\n",
    "    sorted_scores = feature_scores.sort_values(ascending=False)\n",
    "    if threshold is not None:\n",
    "        sorted_scores = sorted_scores[sorted_scores > threshold]\n",
    "    if k is not None:\n",
    "        sorted_scores = sorted_scores[:k]\n",
    "    return sorted_scores"
   ]
  },
  {
   "cell_type": "code",
   "execution_count": 27,
   "id": "d23cd12c-288b-4bf2-af24-b6347b84d8d4",
   "metadata": {
    "scrolled": true
   },
   "outputs": [
    {
     "name": "stdout",
     "output_type": "stream",
     "text": [
      "Preprocessing complete. Shapes:\n",
      "X_train_pre: (470198, 320)\n",
      "X_test_pre: (117550, 320)\n",
      "y_train: (470198,)\n",
      "y_test: (117550,)\n",
      "Feature names: ['duration_min', 'language_ar', 'language_asl', 'language_bg', 'language_ca', 'language_cs', 'language_da', 'language_de', 'language_el', 'language_en'] ...\n"
     ]
    }
   ],
   "source": [
    "X_train_pre, X_test_pre, y_train, y_test, feature_names, full_pipeline,  X_train, X_test = data_clean()\n",
    "#for the regression models, will log-transform the output variable since it's extremely skewed\n",
    "y_train_log = np.log1p(y_train)"
   ]
  },
  {
   "cell_type": "markdown",
   "id": "aa5eeeb6-bd8c-4369-b8df-5c92cabcafe2",
   "metadata": {},
   "source": [
    "After preprocessing, there's about 470k rows of data and 320 columns created as a result of one-hot encoding of the categorical variables. Both language and game type have a lot of values so those somewhat bloat the columns shown in the output. You can also see the 80-20 split chosen for training/testing. "
   ]
  },
  {
   "cell_type": "code",
   "execution_count": 47,
   "id": "92f40087-ce2d-4949-98e4-079db1011089",
   "metadata": {},
   "outputs": [
    {
     "name": "stdout",
     "output_type": "stream",
     "text": [
      "game_name_Counter-Strike          352.139260\n",
      "duration_min                      226.841142\n",
      "game_name_Path of Exile           161.950471\n",
      "game_name_Mario Kart World        148.416541\n",
      "game_name_League of Legends        89.368331\n",
      "language_en                        81.203690\n",
      "game_name_Dota 2                   54.324220\n",
      "language_ru                        54.022805\n",
      "game_name_Old School RuneScape     51.027414\n",
      "game_name_Dune: Awakening          42.563273\n",
      "dtype: float64\n"
     ]
    },
    {
     "data": {
      "image/png": "[encoded data removed]",
      "text/plain": [
       "<Figure size 640x480 with 1 Axes>"
      ]
     },
     "metadata": {},
     "output_type": "display_data"
    }
   ],
   "source": [
    "X_train_df = pd.DataFrame(X_train_pre.toarray(), columns=feature_names) #these are the selected down ones\n",
    "X_test_df = pd.DataFrame(X_test_pre.toarray(), columns=feature_names)\n",
    "feature_scores_linear_regression = get_feature_scores(X_train_df, y_train, k=10, threshold=2.0)\n",
    "print(feature_scores_linear_regression)\n",
    "feature_scores_linear_regression.sort_values(ascending=False).head(10).plot(kind='barh')\n",
    "plt.gca().invert_yaxis()\n",
    "plt.xlabel(\"Feature Score\")\n",
    "plt.title(\"Top 10 Features\")\n",
    "plt.show()"
   ]
  },
  {
   "cell_type": "markdown",
   "id": "1ce5b6e5-ce80-4257-a5d5-88b7831e16a7",
   "metadata": {},
   "source": [
    "As we can see playing certain games, the duration, and language of the stream are extremely important factors in the model. "
   ]
  },
  {
   "cell_type": "code",
   "execution_count": 30,
   "id": "1df8a430-ce93-48f5-9d3d-30740c8b6b8a",
   "metadata": {},
   "outputs": [],
   "source": [
    "selected_features = feature_scores_linear_regression.sort_values(ascending=False).index[:10]\n",
    "X_train_selected = X_train_df[selected_features]\n",
    "X_test_selected = X_test_df[selected_features]"
   ]
  },
  {
   "cell_type": "markdown",
   "id": "99ed794b-8600-4ab7-9993-895a9b6c5b06",
   "metadata": {},
   "source": [
    "We'll use the top 10 features to build a linear regression model and measure the error with Mean Absolute error since its less susceptible to outliers: "
   ]
  },
  {
   "cell_type": "code",
   "execution_count": 31,
   "id": "a6227fb7-3c9a-4352-b084-697147334c35",
   "metadata": {},
   "outputs": [
    {
     "name": "stdout",
     "output_type": "stream",
     "text": [
      "R^2: -0.0009456423426894567\n",
      "MAE: 18.76225352545229\n"
     ]
    }
   ],
   "source": [
    "lr = LinearRegression()\n",
    "lr.fit(X_train_selected, y_train_log)\n",
    "y_pred_log = lr.predict(X_test_selected)\n",
    "y_pred = np.expm1(y_pred_log) #undo the log so we compare the raw values. \n",
    "r2 = r2_score(y_test, y_pred)\n",
    "mae = mean_absolute_error(y_test, y_pred)\n",
    "print(\"R^2:\", r2)\n",
    "print(\"MAE:\", mae)\n"
   ]
  },
  {
   "cell_type": "markdown",
   "id": "3e527bae-f6e8-442b-bda8-c493f4a3e121",
   "metadata": {},
   "source": [
    "As we can see, our MAE value is high, and our R^2 is close to 0, indicating that the model is very underfit and requires a more complex model. "
   ]
  },
  {
   "cell_type": "markdown",
   "id": "e347ccf6-3bf9-49fb-8c87-67f1b06b189f",
   "metadata": {},
   "source": [
    "We'll try a random forest regression model next, this time using a grid search cv to consider different hyperparameter values for n_estimators and max_depth:"
   ]
  },
  {
   "cell_type": "code",
   "execution_count": 32,
   "id": "2ffb8927-abdd-4b07-a144-25bc47ea6de0",
   "metadata": {},
   "outputs": [
    {
     "name": "stdout",
     "output_type": "stream",
     "text": [
      "Best parameters: {'regressor__max_depth': 10, 'regressor__n_estimators': 20}\n",
      "Random Forest MAE: 18.59625235471379\n"
     ]
    }
   ],
   "source": [
    "param_grid = {\n",
    "    'regressor__n_estimators': [10, 20],\n",
    "    'regressor__max_depth': [5, 10],\n",
    "}\n",
    "\n",
    "rf_model = Pipeline([\n",
    "    ('preprocessing', full_pipeline), #preprocessing pipeline returned from data_clean()\n",
    "    ('regressor', RandomForestRegressor())\n",
    "])\n",
    "# Fit the model\n",
    "grid = GridSearchCV(rf_model, param_grid, cv=3, scoring='neg_mean_absolute_error', n_jobs=4)\n",
    "# Fit on log-transformed target, will use original dfs with all features (not just top k)\n",
    "grid.fit(X_train, y_train_log)\n",
    "y_pred_log = grid.predict(X_test)\n",
    "y_pred = np.expm1(y_pred_log)\n",
    "# Evaluate and print results\n",
    "mae = mean_absolute_error(y_test, y_pred)\n",
    "print(\"Best parameters:\", grid.best_params_)\n",
    "print(\"Random Forest MAE:\", mae)"
   ]
  },
  {
   "cell_type": "markdown",
   "id": "c19d9fe4-33d3-476b-ab25-7717c23dd328",
   "metadata": {},
   "source": [
    "The best parameters for random forests in the grid search were a max depth of 10 and number of estimators at 20. \n",
    "The MAE of this model is 18.59, which is slightly less than that of the linear regression model, but still not that much better. \n",
    "Next, we'll try to use a simple neural network with 2 layers and relu activation function."
   ]
  },
  {
   "cell_type": "code",
   "execution_count": 35,
   "id": "200214ab-3b80-4d04-9c97-2a4180395f05",
   "metadata": {
    "scrolled": true
   },
   "outputs": [
    {
     "name": "stdout",
     "output_type": "stream",
     "text": [
      "Epoch 1/30\n",
      "\u001b[1m5878/5878\u001b[0m \u001b[32m━━━━━━━━━━━━━━━━━━━━\u001b[0m\u001b[37m\u001b[0m \u001b[1m8s\u001b[0m 1ms/step - loss: 0.6027 - mae: 0.6027 - val_loss: 0.5737 - val_mae: 0.5737\n",
      "Epoch 2/30\n",
      "\u001b[1m5878/5878\u001b[0m \u001b[32m━━━━━━━━━━━━━━━━━━━━\u001b[0m\u001b[37m\u001b[0m \u001b[1m7s\u001b[0m 1ms/step - loss: 0.5679 - mae: 0.5679 - val_loss: 0.5722 - val_mae: 0.5722\n",
      "Epoch 3/30\n",
      "\u001b[1m5878/5878\u001b[0m \u001b[32m━━━━━━━━━━━━━━━━━━━━\u001b[0m\u001b[37m\u001b[0m \u001b[1m8s\u001b[0m 1ms/step - loss: 0.5662 - mae: 0.5662 - val_loss: 0.5703 - val_mae: 0.5703\n",
      "Epoch 4/30\n",
      "\u001b[1m5878/5878\u001b[0m \u001b[32m━━━━━━━━━━━━━━━━━━━━\u001b[0m\u001b[37m\u001b[0m \u001b[1m7s\u001b[0m 1ms/step - loss: 0.5620 - mae: 0.5620 - val_loss: 0.5687 - val_mae: 0.5687\n",
      "Epoch 5/30\n",
      "\u001b[1m5878/5878\u001b[0m \u001b[32m━━━━━━━━━━━━━━━━━━━━\u001b[0m\u001b[37m\u001b[0m \u001b[1m7s\u001b[0m 1ms/step - loss: 0.5617 - mae: 0.5617 - val_loss: 0.5680 - val_mae: 0.5680\n",
      "Epoch 6/30\n",
      "\u001b[1m5878/5878\u001b[0m \u001b[32m━━━━━━━━━━━━━━━━━━━━\u001b[0m\u001b[37m\u001b[0m \u001b[1m7s\u001b[0m 1ms/step - loss: 0.5591 - mae: 0.5591 - val_loss: 0.5684 - val_mae: 0.5684\n",
      "Epoch 7/30\n",
      "\u001b[1m5878/5878\u001b[0m \u001b[32m━━━━━━━━━━━━━━━━━━━━\u001b[0m\u001b[37m\u001b[0m \u001b[1m7s\u001b[0m 1ms/step - loss: 0.5584 - mae: 0.5584 - val_loss: 0.5678 - val_mae: 0.5678\n",
      "Epoch 8/30\n",
      "\u001b[1m5878/5878\u001b[0m \u001b[32m━━━━━━━━━━━━━━━━━━━━\u001b[0m\u001b[37m\u001b[0m \u001b[1m7s\u001b[0m 1ms/step - loss: 0.5565 - mae: 0.5565 - val_loss: 0.5678 - val_mae: 0.5678\n",
      "Epoch 9/30\n",
      "\u001b[1m5878/5878\u001b[0m \u001b[32m━━━━━━━━━━━━━━━━━━━━\u001b[0m\u001b[37m\u001b[0m \u001b[1m7s\u001b[0m 1ms/step - loss: 0.5543 - mae: 0.5543 - val_loss: 0.5676 - val_mae: 0.5676\n",
      "Epoch 10/30\n",
      "\u001b[1m5878/5878\u001b[0m \u001b[32m━━━━━━━━━━━━━━━━━━━━\u001b[0m\u001b[37m\u001b[0m \u001b[1m7s\u001b[0m 1ms/step - loss: 0.5536 - mae: 0.5536 - val_loss: 0.5684 - val_mae: 0.5684\n",
      "Epoch 11/30\n",
      "\u001b[1m5878/5878\u001b[0m \u001b[32m━━━━━━━━━━━━━━━━━━━━\u001b[0m\u001b[37m\u001b[0m \u001b[1m7s\u001b[0m 1ms/step - loss: 0.5541 - mae: 0.5541 - val_loss: 0.5696 - val_mae: 0.5696\n",
      "Epoch 12/30\n",
      "\u001b[1m5878/5878\u001b[0m \u001b[32m━━━━━━━━━━━━━━━━━━━━\u001b[0m\u001b[37m\u001b[0m \u001b[1m7s\u001b[0m 1ms/step - loss: 0.5524 - mae: 0.5524 - val_loss: 0.5682 - val_mae: 0.5682\n",
      "Epoch 13/30\n",
      "\u001b[1m5878/5878\u001b[0m \u001b[32m━━━━━━━━━━━━━━━━━━━━\u001b[0m\u001b[37m\u001b[0m \u001b[1m7s\u001b[0m 1ms/step - loss: 0.5530 - mae: 0.5530 - val_loss: 0.5673 - val_mae: 0.5673\n",
      "Epoch 14/30\n",
      "\u001b[1m5878/5878\u001b[0m \u001b[32m━━━━━━━━━━━━━━━━━━━━\u001b[0m\u001b[37m\u001b[0m \u001b[1m7s\u001b[0m 1ms/step - loss: 0.5546 - mae: 0.5546 - val_loss: 0.5674 - val_mae: 0.5674\n",
      "Epoch 15/30\n",
      "\u001b[1m5878/5878\u001b[0m \u001b[32m━━━━━━━━━━━━━━━━━━━━\u001b[0m\u001b[37m\u001b[0m \u001b[1m7s\u001b[0m 1ms/step - loss: 0.5529 - mae: 0.5529 - val_loss: 0.5684 - val_mae: 0.5684\n",
      "Epoch 16/30\n",
      "\u001b[1m5878/5878\u001b[0m \u001b[32m━━━━━━━━━━━━━━━━━━━━\u001b[0m\u001b[37m\u001b[0m \u001b[1m7s\u001b[0m 1ms/step - loss: 0.5506 - mae: 0.5506 - val_loss: 0.5684 - val_mae: 0.5684\n",
      "Epoch 17/30\n",
      "\u001b[1m5878/5878\u001b[0m \u001b[32m━━━━━━━━━━━━━━━━━━━━\u001b[0m\u001b[37m\u001b[0m \u001b[1m7s\u001b[0m 1ms/step - loss: 0.5495 - mae: 0.5495 - val_loss: 0.5685 - val_mae: 0.5685\n",
      "Epoch 18/30\n",
      "\u001b[1m5878/5878\u001b[0m \u001b[32m━━━━━━━━━━━━━━━━━━━━\u001b[0m\u001b[37m\u001b[0m \u001b[1m7s\u001b[0m 1ms/step - loss: 0.5506 - mae: 0.5506 - val_loss: 0.5685 - val_mae: 0.5685\n",
      "Epoch 19/30\n",
      "\u001b[1m5878/5878\u001b[0m \u001b[32m━━━━━━━━━━━━━━━━━━━━\u001b[0m\u001b[37m\u001b[0m \u001b[1m7s\u001b[0m 1ms/step - loss: 0.5486 - mae: 0.5486 - val_loss: 0.5690 - val_mae: 0.5690\n",
      "Epoch 20/30\n",
      "\u001b[1m5878/5878\u001b[0m \u001b[32m━━━━━━━━━━━━━━━━━━━━\u001b[0m\u001b[37m\u001b[0m \u001b[1m8s\u001b[0m 1ms/step - loss: 0.5505 - mae: 0.5505 - val_loss: 0.5688 - val_mae: 0.5688\n",
      "Epoch 21/30\n",
      "\u001b[1m5878/5878\u001b[0m \u001b[32m━━━━━━━━━━━━━━━━━━━━\u001b[0m\u001b[37m\u001b[0m \u001b[1m8s\u001b[0m 1ms/step - loss: 0.5497 - mae: 0.5497 - val_loss: 0.5687 - val_mae: 0.5687\n",
      "Epoch 22/30\n",
      "\u001b[1m5878/5878\u001b[0m \u001b[32m━━━━━━━━━━━━━━━━━━━━\u001b[0m\u001b[37m\u001b[0m \u001b[1m8s\u001b[0m 1ms/step - loss: 0.5496 - mae: 0.5496 - val_loss: 0.5687 - val_mae: 0.5687\n",
      "Epoch 23/30\n",
      "\u001b[1m5878/5878\u001b[0m \u001b[32m━━━━━━━━━━━━━━━━━━━━\u001b[0m\u001b[37m\u001b[0m \u001b[1m7s\u001b[0m 1ms/step - loss: 0.5489 - mae: 0.5489 - val_loss: 0.5684 - val_mae: 0.5684\n",
      "Epoch 24/30\n",
      "\u001b[1m5878/5878\u001b[0m \u001b[32m━━━━━━━━━━━━━━━━━━━━\u001b[0m\u001b[37m\u001b[0m \u001b[1m7s\u001b[0m 1ms/step - loss: 0.5478 - mae: 0.5478 - val_loss: 0.5697 - val_mae: 0.5697\n",
      "Epoch 25/30\n",
      "\u001b[1m5878/5878\u001b[0m \u001b[32m━━━━━━━━━━━━━━━━━━━━\u001b[0m\u001b[37m\u001b[0m \u001b[1m7s\u001b[0m 1ms/step - loss: 0.5503 - mae: 0.5503 - val_loss: 0.5696 - val_mae: 0.5696\n",
      "Epoch 26/30\n",
      "\u001b[1m5878/5878\u001b[0m \u001b[32m━━━━━━━━━━━━━━━━━━━━\u001b[0m\u001b[37m\u001b[0m \u001b[1m7s\u001b[0m 1ms/step - loss: 0.5481 - mae: 0.5481 - val_loss: 0.5695 - val_mae: 0.5695\n",
      "Epoch 27/30\n",
      "\u001b[1m5878/5878\u001b[0m \u001b[32m━━━━━━━━━━━━━━━━━━━━\u001b[0m\u001b[37m\u001b[0m \u001b[1m7s\u001b[0m 1ms/step - loss: 0.5470 - mae: 0.5470 - val_loss: 0.5701 - val_mae: 0.5701\n",
      "Epoch 28/30\n",
      "\u001b[1m5878/5878\u001b[0m \u001b[32m━━━━━━━━━━━━━━━━━━━━\u001b[0m\u001b[37m\u001b[0m \u001b[1m8s\u001b[0m 1ms/step - loss: 0.5464 - mae: 0.5464 - val_loss: 0.5691 - val_mae: 0.5691\n",
      "Epoch 29/30\n",
      "\u001b[1m5878/5878\u001b[0m \u001b[32m━━━━━━━━━━━━━━━━━━━━\u001b[0m\u001b[37m\u001b[0m \u001b[1m7s\u001b[0m 1ms/step - loss: 0.5464 - mae: 0.5464 - val_loss: 0.5713 - val_mae: 0.5713\n",
      "Epoch 30/30\n",
      "\u001b[1m5878/5878\u001b[0m \u001b[32m━━━━━━━━━━━━━━━━━━━━\u001b[0m\u001b[37m\u001b[0m \u001b[1m8s\u001b[0m 1ms/step - loss: 0.5461 - mae: 0.5461 - val_loss: 0.5697 - val_mae: 0.5697\n",
      "\u001b[1m3674/3674\u001b[0m \u001b[32m━━━━━━━━━━━━━━━━━━━━\u001b[0m\u001b[37m\u001b[0m \u001b[1m3s\u001b[0m 888us/step\n",
      "MAE: 18.335050781181963\n"
     ]
    }
   ],
   "source": [
    "\n",
    "# Preprocess X_train, X_test with your pipeline, or use StandardScaler as needed\n",
    "# X_train_pre = pipeline.fit_transform(X_train)\n",
    "# X_test_pre = pipeline.transform(X_test_selected)\n",
    "\n",
    "# Build a simple neural network model\n",
    "model1 = keras.Sequential([\n",
    "    keras.layers.Input(shape=(X_train_pre.shape[1],)),\n",
    "    keras.layers.Dense(64, activation='relu'),\n",
    "    keras.layers.Dense(32, activation='relu'),\n",
    "    keras.layers.Dense(1)  # Output layer for regression\n",
    "])\n",
    "\n",
    "model1.compile(optimizer='adam', loss='mae', metrics=['mae'])\n",
    "\n",
    "# Fit model\n",
    "history = model1.fit(X_train_pre, y_train_log, epochs=30, batch_size=64, validation_split=0.2)\n",
    "\n",
    "# Predict and inverse-transform\n",
    "y_pred_log = model1.predict(X_test_pre).flatten()\n",
    "y_pred = np.expm1(y_pred_log)\n",
    "print(\"MAE:\", mean_absolute_error(y_test, y_pred))"
   ]
  },
  {
   "cell_type": "markdown",
   "id": "25d0ba49-503d-47da-b34b-3c06b9d346a5",
   "metadata": {},
   "source": [
    "##### The MAE for this model is 18.335, which is a decent improvement from the random forest model of 18.6."
   ]
  },
  {
   "cell_type": "markdown",
   "id": "7821d248-5011-45de-b6a6-dd235f141344",
   "metadata": {},
   "source": [
    "Now we'll try a more complex model with one more layer and starting with a higher number of neurons, and also an sgd optimizer instead of adam"
   ]
  },
  {
   "cell_type": "code",
   "execution_count": 36,
   "id": "f955fc8f-6d84-4a56-890e-d4009536eb52",
   "metadata": {},
   "outputs": [
    {
     "name": "stdout",
     "output_type": "stream",
     "text": [
      "Epoch 1/30\n",
      "\u001b[1m5878/5878\u001b[0m \u001b[32m━━━━━━━━━━━━━━━━━━━━\u001b[0m\u001b[37m\u001b[0m \u001b[1m9s\u001b[0m 1ms/step - loss: 0.6075 - mae: 0.6075 - val_loss: 0.5900 - val_mae: 0.5900\n",
      "Epoch 2/30\n",
      "\u001b[1m5878/5878\u001b[0m \u001b[32m━━━━━━━━━━━━━━━━━━━━\u001b[0m\u001b[37m\u001b[0m \u001b[1m8s\u001b[0m 1ms/step - loss: 0.5821 - mae: 0.5821 - val_loss: 0.5899 - val_mae: 0.5899\n",
      "Epoch 3/30\n",
      "\u001b[1m5878/5878\u001b[0m \u001b[32m━━━━━━━━━━━━━━━━━━━━\u001b[0m\u001b[37m\u001b[0m \u001b[1m8s\u001b[0m 1ms/step - loss: 0.5795 - mae: 0.5795 - val_loss: 0.5798 - val_mae: 0.5798\n",
      "Epoch 4/30\n",
      "\u001b[1m5878/5878\u001b[0m \u001b[32m━━━━━━━━━━━━━━━━━━━━\u001b[0m\u001b[37m\u001b[0m \u001b[1m8s\u001b[0m 1ms/step - loss: 0.5800 - mae: 0.5800 - val_loss: 0.5815 - val_mae: 0.5815\n",
      "Epoch 5/30\n",
      "\u001b[1m5878/5878\u001b[0m \u001b[32m━━━━━━━━━━━━━━━━━━━━\u001b[0m\u001b[37m\u001b[0m \u001b[1m8s\u001b[0m 1ms/step - loss: 0.5782 - mae: 0.5782 - val_loss: 0.5850 - val_mae: 0.5850\n",
      "Epoch 6/30\n",
      "\u001b[1m5878/5878\u001b[0m \u001b[32m━━━━━━━━━━━━━━━━━━━━\u001b[0m\u001b[37m\u001b[0m \u001b[1m8s\u001b[0m 1ms/step - loss: 0.5773 - mae: 0.5773 - val_loss: 0.5782 - val_mae: 0.5782\n",
      "Epoch 7/30\n",
      "\u001b[1m5878/5878\u001b[0m \u001b[32m━━━━━━━━━━━━━━━━━━━━\u001b[0m\u001b[37m\u001b[0m \u001b[1m8s\u001b[0m 1ms/step - loss: 0.5762 - mae: 0.5762 - val_loss: 0.5767 - val_mae: 0.5767\n",
      "Epoch 8/30\n",
      "\u001b[1m5878/5878\u001b[0m \u001b[32m━━━━━━━━━━━━━━━━━━━━\u001b[0m\u001b[37m\u001b[0m \u001b[1m8s\u001b[0m 1ms/step - loss: 0.5751 - mae: 0.5751 - val_loss: 0.5763 - val_mae: 0.5763\n",
      "Epoch 9/30\n",
      "\u001b[1m5878/5878\u001b[0m \u001b[32m━━━━━━━━━━━━━━━━━━━━\u001b[0m\u001b[37m\u001b[0m \u001b[1m8s\u001b[0m 1ms/step - loss: 0.5734 - mae: 0.5734 - val_loss: 0.5830 - val_mae: 0.5830\n",
      "Epoch 10/30\n",
      "\u001b[1m5878/5878\u001b[0m \u001b[32m━━━━━━━━━━━━━━━━━━━━\u001b[0m\u001b[37m\u001b[0m \u001b[1m8s\u001b[0m 1ms/step - loss: 0.5708 - mae: 0.5708 - val_loss: 0.5851 - val_mae: 0.5851\n",
      "Epoch 11/30\n",
      "\u001b[1m5878/5878\u001b[0m \u001b[32m━━━━━━━━━━━━━━━━━━━━\u001b[0m\u001b[37m\u001b[0m \u001b[1m8s\u001b[0m 1ms/step - loss: 0.5734 - mae: 0.5734 - val_loss: 0.5805 - val_mae: 0.5805\n",
      "Epoch 12/30\n",
      "\u001b[1m5878/5878\u001b[0m \u001b[32m━━━━━━━━━━━━━━━━━━━━\u001b[0m\u001b[37m\u001b[0m \u001b[1m8s\u001b[0m 1ms/step - loss: 0.5703 - mae: 0.5703 - val_loss: 0.5764 - val_mae: 0.5764\n",
      "Epoch 13/30\n",
      "\u001b[1m5878/5878\u001b[0m \u001b[32m━━━━━━━━━━━━━━━━━━━━\u001b[0m\u001b[37m\u001b[0m \u001b[1m8s\u001b[0m 1ms/step - loss: 0.5726 - mae: 0.5726 - val_loss: 0.5793 - val_mae: 0.5793\n",
      "Epoch 14/30\n",
      "\u001b[1m5878/5878\u001b[0m \u001b[32m━━━━━━━━━━━━━━━━━━━━\u001b[0m\u001b[37m\u001b[0m \u001b[1m8s\u001b[0m 1ms/step - loss: 0.5721 - mae: 0.5721 - val_loss: 0.5779 - val_mae: 0.5779\n",
      "Epoch 15/30\n",
      "\u001b[1m5878/5878\u001b[0m \u001b[32m━━━━━━━━━━━━━━━━━━━━\u001b[0m\u001b[37m\u001b[0m \u001b[1m8s\u001b[0m 1ms/step - loss: 0.5702 - mae: 0.5702 - val_loss: 0.5764 - val_mae: 0.5764\n",
      "Epoch 16/30\n",
      "\u001b[1m5878/5878\u001b[0m \u001b[32m━━━━━━━━━━━━━━━━━━━━\u001b[0m\u001b[37m\u001b[0m \u001b[1m8s\u001b[0m 1ms/step - loss: 0.5698 - mae: 0.5698 - val_loss: 0.5739 - val_mae: 0.5739\n",
      "Epoch 17/30\n",
      "\u001b[1m5878/5878\u001b[0m \u001b[32m━━━━━━━━━━━━━━━━━━━━\u001b[0m\u001b[37m\u001b[0m \u001b[1m8s\u001b[0m 1ms/step - loss: 0.5670 - mae: 0.5670 - val_loss: 0.5754 - val_mae: 0.5754\n",
      "Epoch 18/30\n",
      "\u001b[1m5878/5878\u001b[0m \u001b[32m━━━━━━━━━━━━━━━━━━━━\u001b[0m\u001b[37m\u001b[0m \u001b[1m8s\u001b[0m 1ms/step - loss: 0.5713 - mae: 0.5713 - val_loss: 0.5740 - val_mae: 0.5740\n",
      "Epoch 19/30\n",
      "\u001b[1m5878/5878\u001b[0m \u001b[32m━━━━━━━━━━━━━━━━━━━━\u001b[0m\u001b[37m\u001b[0m \u001b[1m8s\u001b[0m 1ms/step - loss: 0.5672 - mae: 0.5672 - val_loss: 0.5760 - val_mae: 0.5760\n",
      "Epoch 20/30\n",
      "\u001b[1m5878/5878\u001b[0m \u001b[32m━━━━━━━━━━━━━━━━━━━━\u001b[0m\u001b[37m\u001b[0m \u001b[1m8s\u001b[0m 1ms/step - loss: 0.5680 - mae: 0.5680 - val_loss: 0.5761 - val_mae: 0.5761\n",
      "Epoch 21/30\n",
      "\u001b[1m5878/5878\u001b[0m \u001b[32m━━━━━━━━━━━━━━━━━━━━\u001b[0m\u001b[37m\u001b[0m \u001b[1m8s\u001b[0m 1ms/step - loss: 0.5676 - mae: 0.5676 - val_loss: 0.5735 - val_mae: 0.5735\n",
      "Epoch 22/30\n",
      "\u001b[1m5878/5878\u001b[0m \u001b[32m━━━━━━━━━━━━━━━━━━━━\u001b[0m\u001b[37m\u001b[0m \u001b[1m8s\u001b[0m 1ms/step - loss: 0.5693 - mae: 0.5693 - val_loss: 0.5758 - val_mae: 0.5758\n",
      "Epoch 23/30\n",
      "\u001b[1m5878/5878\u001b[0m \u001b[32m━━━━━━━━━━━━━━━━━━━━\u001b[0m\u001b[37m\u001b[0m \u001b[1m8s\u001b[0m 1ms/step - loss: 0.5698 - mae: 0.5698 - val_loss: 0.5716 - val_mae: 0.5716\n",
      "Epoch 24/30\n",
      "\u001b[1m5878/5878\u001b[0m \u001b[32m━━━━━━━━━━━━━━━━━━━━\u001b[0m\u001b[37m\u001b[0m \u001b[1m7s\u001b[0m 1ms/step - loss: 0.5682 - mae: 0.5682 - val_loss: 0.5740 - val_mae: 0.5740\n",
      "Epoch 25/30\n",
      "\u001b[1m5878/5878\u001b[0m \u001b[32m━━━━━━━━━━━━━━━━━━━━\u001b[0m\u001b[37m\u001b[0m \u001b[1m8s\u001b[0m 1ms/step - loss: 0.5675 - mae: 0.5675 - val_loss: 0.5774 - val_mae: 0.5774\n",
      "Epoch 26/30\n",
      "\u001b[1m5878/5878\u001b[0m \u001b[32m━━━━━━━━━━━━━━━━━━━━\u001b[0m\u001b[37m\u001b[0m \u001b[1m8s\u001b[0m 1ms/step - loss: 0.5685 - mae: 0.5685 - val_loss: 0.5757 - val_mae: 0.5757\n",
      "Epoch 27/30\n",
      "\u001b[1m5878/5878\u001b[0m \u001b[32m━━━━━━━━━━━━━━━━━━━━\u001b[0m\u001b[37m\u001b[0m \u001b[1m8s\u001b[0m 1ms/step - loss: 0.5649 - mae: 0.5649 - val_loss: 0.5731 - val_mae: 0.5731\n",
      "Epoch 28/30\n",
      "\u001b[1m5878/5878\u001b[0m \u001b[32m━━━━━━━━━━━━━━━━━━━━\u001b[0m\u001b[37m\u001b[0m \u001b[1m8s\u001b[0m 1ms/step - loss: 0.5667 - mae: 0.5667 - val_loss: 0.5731 - val_mae: 0.5731\n",
      "Epoch 29/30\n",
      "\u001b[1m5878/5878\u001b[0m \u001b[32m━━━━━━━━━━━━━━━━━━━━\u001b[0m\u001b[37m\u001b[0m \u001b[1m8s\u001b[0m 1ms/step - loss: 0.5669 - mae: 0.5669 - val_loss: 0.5720 - val_mae: 0.5720\n",
      "Epoch 30/30\n",
      "\u001b[1m5878/5878\u001b[0m \u001b[32m━━━━━━━━━━━━━━━━━━━━\u001b[0m\u001b[37m\u001b[0m \u001b[1m8s\u001b[0m 1ms/step - loss: 0.5683 - mae: 0.5683 - val_loss: 0.5787 - val_mae: 0.5787\n",
      "\u001b[1m3674/3674\u001b[0m \u001b[32m━━━━━━━━━━━━━━━━━━━━\u001b[0m\u001b[37m\u001b[0m \u001b[1m3s\u001b[0m 899us/step\n",
      "MAE: 18.339336676800418\n"
     ]
    }
   ],
   "source": [
    "model2 = keras.Sequential([\n",
    "    keras.layers.Input(shape=(X_train_pre.shape[1],)),\n",
    "    keras.layers.Dense(128, activation='selu'),\n",
    "    keras.layers.Dense(64, activation='selu'),\n",
    "    keras.layers.Dense(32, activation='selu'),\n",
    "    keras.layers.Dense(1)  # Output layer for regression\n",
    "])\n",
    "model2.compile(optimizer='sgd', loss='mae', metrics=['mae'])\n",
    "\n",
    "# Fit model\n",
    "history = model2.fit(X_train_pre, y_train_log, epochs=30, batch_size=64, validation_split=0.2)\n",
    "\n",
    "# Predict and inverse-transform\n",
    "y_pred_log = model2.predict(X_test_pre).flatten()\n",
    "y_pred = np.expm1(y_pred_log)\n",
    "print(\"MAE:\", mean_absolute_error(y_test, y_pred))"
   ]
  },
  {
   "cell_type": "markdown",
   "id": "d606b19c-9349-4ba8-b0c5-fe5eaab07c3e",
   "metadata": {},
   "source": [
    "This model has a MAE of 18.339, slightly worse than the simpler DNN. So I'll take 'model1' with the 2 layers as the 'best model'. Now we can use it to make a prediction. In this scenario I'll pretend that I'm an English-speaking mature streamer playing Counter Strike and plan to be streaming for 10 hours. How many viewers should I expect to have?"
   ]
  },
  {
   "cell_type": "code",
   "execution_count": 59,
   "id": "51188f26-ca28-4064-b60d-138bec227ed2",
   "metadata": {},
   "outputs": [
    {
     "name": "stdout",
     "output_type": "stream",
     "text": [
      "\u001b[1m1/1\u001b[0m \u001b[32m━━━━━━━━━━━━━━━━━━━━\u001b[0m\u001b[37m\u001b[0m \u001b[1m0s\u001b[0m 71ms/step\n",
      "Predicted Number of Viewers: 3.9347572\n"
     ]
    },
    {
     "data": {
      "text/plain": [
       "np.float32(3.9347572)"
      ]
     },
     "execution_count": 59,
     "metadata": {},
     "output_type": "execute_result"
    }
   ],
   "source": [
    "# Example: sample input as a dict (keys must match your features)\n",
    "def predict_viewers(duration_hrs=10, lang=\"en\", game=\"Counter Strike\", is_mature=True):\n",
    "    sample_dict = {\n",
    "        \"duration_min\": 60 * duration_hrs, #convert hours to minutes\n",
    "        \"language\": lang,\n",
    "        \"game_name\": game,\n",
    "        \"is_mature\": is_mature\n",
    "    }\n",
    "    \n",
    "    sample_df = pd.DataFrame([sample_dict])\n",
    "    # 2. Preprocess sample with pipeline\n",
    "    sample_pre = full_pipeline.transform(sample_df)\n",
    "    # 3. Predict with your Keras model\n",
    "    pred_log = model1.predict(sample_pre).flatten()[0]\n",
    "    pred = np.expm1(pred_log)  # If you trained on log1p(y)\n",
    "    print(\"Predicted Number of Viewers:\", pred)\n",
    "    return pred\n",
    "predict_viewers()"
   ]
  },
  {
   "cell_type": "markdown",
   "id": "f23c7548-b07e-4957-9d10-eb28a0b8f7eb",
   "metadata": {},
   "source": [
    "Seems like I'll get roughly 4 viewers despite all that hard work. :(. How does the number of viewers change depending on how long we stream for?"
   ]
  },
  {
   "cell_type": "code",
   "execution_count": 128,
   "id": "a6f6573a-6a2b-4827-8801-00b8643963a2",
   "metadata": {
    "scrolled": true
   },
   "outputs": [
    {
     "name": "stdout",
     "output_type": "stream",
     "text": [
      "\u001b[1m1/1\u001b[0m \u001b[32m━━━━━━━━━━━━━━━━━━━━\u001b[0m\u001b[37m\u001b[0m \u001b[1m0s\u001b[0m 145ms/step\n",
      "Predicted Number of Viewers: 1.478903\n",
      "\u001b[1m1/1\u001b[0m \u001b[32m━━━━━━━━━━━━━━━━━━━━\u001b[0m\u001b[37m\u001b[0m \u001b[1m0s\u001b[0m 132ms/step\n",
      "Predicted Number of Viewers: 2.3369403\n",
      "\u001b[1m1/1\u001b[0m \u001b[32m━━━━━━━━━━━━━━━━━━━━\u001b[0m\u001b[37m\u001b[0m \u001b[1m0s\u001b[0m 142ms/step\n",
      "Predicted Number of Viewers: 3.0630836\n",
      "\u001b[1m1/1\u001b[0m \u001b[32m━━━━━━━━━━━━━━━━━━━━\u001b[0m\u001b[37m\u001b[0m \u001b[1m0s\u001b[0m 161ms/step\n",
      "Predicted Number of Viewers: 3.7001815\n",
      "\u001b[1m1/1\u001b[0m \u001b[32m━━━━━━━━━━━━━━━━━━━━\u001b[0m\u001b[37m\u001b[0m \u001b[1m0s\u001b[0m 145ms/step\n",
      "Predicted Number of Viewers: 3.8594604\n",
      "\u001b[1m1/1\u001b[0m \u001b[32m━━━━━━━━━━━━━━━━━━━━\u001b[0m\u001b[37m\u001b[0m \u001b[1m0s\u001b[0m 138ms/step\n",
      "Predicted Number of Viewers: 3.7910848\n",
      "\u001b[1m1/1\u001b[0m \u001b[32m━━━━━━━━━━━━━━━━━━━━\u001b[0m\u001b[37m\u001b[0m \u001b[1m0s\u001b[0m 164ms/step\n",
      "Predicted Number of Viewers: 3.7606816\n",
      "\u001b[1m1/1\u001b[0m \u001b[32m━━━━━━━━━━━━━━━━━━━━\u001b[0m\u001b[37m\u001b[0m \u001b[1m0s\u001b[0m 136ms/step\n",
      "Predicted Number of Viewers: 3.834536\n",
      "\u001b[1m1/1\u001b[0m \u001b[32m━━━━━━━━━━━━━━━━━━━━\u001b[0m\u001b[37m\u001b[0m \u001b[1m0s\u001b[0m 146ms/step\n",
      "Predicted Number of Viewers: 3.8034678\n",
      "\u001b[1m1/1\u001b[0m \u001b[32m━━━━━━━━━━━━━━━━━━━━\u001b[0m\u001b[37m\u001b[0m \u001b[1m0s\u001b[0m 151ms/step\n",
      "Predicted Number of Viewers: 3.9347572\n",
      "\u001b[1m1/1\u001b[0m \u001b[32m━━━━━━━━━━━━━━━━━━━━\u001b[0m\u001b[37m\u001b[0m \u001b[1m0s\u001b[0m 150ms/step\n",
      "Predicted Number of Viewers: 4.015371\n",
      "\u001b[1m1/1\u001b[0m \u001b[32m━━━━━━━━━━━━━━━━━━━━\u001b[0m\u001b[37m\u001b[0m \u001b[1m0s\u001b[0m 125ms/step\n",
      "Predicted Number of Viewers: 3.925562\n",
      "\u001b[1m1/1\u001b[0m \u001b[32m━━━━━━━━━━━━━━━━━━━━\u001b[0m\u001b[37m\u001b[0m \u001b[1m0s\u001b[0m 151ms/step\n",
      "Predicted Number of Viewers: 3.8292575\n",
      "\u001b[1m1/1\u001b[0m \u001b[32m━━━━━━━━━━━━━━━━━━━━\u001b[0m\u001b[37m\u001b[0m \u001b[1m0s\u001b[0m 141ms/step\n",
      "Predicted Number of Viewers: 3.6436934\n",
      "\u001b[1m1/1\u001b[0m \u001b[32m━━━━━━━━━━━━━━━━━━━━\u001b[0m\u001b[37m\u001b[0m \u001b[1m0s\u001b[0m 152ms/step\n",
      "Predicted Number of Viewers: 3.5726213\n",
      "\u001b[1m1/1\u001b[0m \u001b[32m━━━━━━━━━━━━━━━━━━━━\u001b[0m\u001b[37m\u001b[0m \u001b[1m0s\u001b[0m 133ms/step\n",
      "Predicted Number of Viewers: 3.5044947\n",
      "\u001b[1m1/1\u001b[0m \u001b[32m━━━━━━━━━━━━━━━━━━━━\u001b[0m\u001b[37m\u001b[0m \u001b[1m0s\u001b[0m 132ms/step\n",
      "Predicted Number of Viewers: 3.4373803\n",
      "\u001b[1m1/1\u001b[0m \u001b[32m━━━━━━━━━━━━━━━━━━━━\u001b[0m\u001b[37m\u001b[0m \u001b[1m0s\u001b[0m 140ms/step\n",
      "Predicted Number of Viewers: 3.2520633\n",
      "\u001b[1m1/1\u001b[0m \u001b[32m━━━━━━━━━━━━━━━━━━━━\u001b[0m\u001b[37m\u001b[0m \u001b[1m0s\u001b[0m 134ms/step\n",
      "Predicted Number of Viewers: 3.178783\n",
      "\u001b[1m1/1\u001b[0m \u001b[32m━━━━━━━━━━━━━━━━━━━━\u001b[0m\u001b[37m\u001b[0m \u001b[1m0s\u001b[0m 137ms/step\n",
      "Predicted Number of Viewers: 3.1572423\n",
      "\u001b[1m1/1\u001b[0m \u001b[32m━━━━━━━━━━━━━━━━━━━━\u001b[0m\u001b[37m\u001b[0m \u001b[1m0s\u001b[0m 128ms/step\n",
      "Predicted Number of Viewers: 3.1358109\n",
      "\u001b[1m1/1\u001b[0m \u001b[32m━━━━━━━━━━━━━━━━━━━━\u001b[0m\u001b[37m\u001b[0m \u001b[1m0s\u001b[0m 142ms/step\n",
      "Predicted Number of Viewers: 3.1144896\n",
      "\u001b[1m1/1\u001b[0m \u001b[32m━━━━━━━━━━━━━━━━━━━━\u001b[0m\u001b[37m\u001b[0m \u001b[1m0s\u001b[0m 144ms/step\n",
      "Predicted Number of Viewers: 3.1117501\n"
     ]
    },
    {
     "data": {
      "text/plain": [
       "[<matplotlib.lines.Line2D at 0x24cfcb50e90>]"
      ]
     },
     "execution_count": 128,
     "metadata": {},
     "output_type": "execute_result"
    },
    {
     "data": {
      "image/png": "[encoded data removed]",
      "text/plain": [
       "<Figure size 640x480 with 1 Axes>"
      ]
     },
     "metadata": {},
     "output_type": "display_data"
    }
   ],
   "source": [
    "viewer_preds_stream_time = [predict_viewers(x) for x in range(1, 24)]\n",
    "plt.plot(viewer_preds_stream_time)"
   ]
  },
  {
   "cell_type": "markdown",
   "id": "97edc2a8-0793-414a-b3ab-c67596947664",
   "metadata": {},
   "source": [
    "What about language? If we stream in English, Spanish, Russian, German (de), Portugese(pt), or French, what's the effect?"
   ]
  },
  {
   "cell_type": "code",
   "execution_count": 129,
   "id": "d2a0e60d-d150-48fa-afe9-b44898c286d4",
   "metadata": {},
   "outputs": [
    {
     "name": "stdout",
     "output_type": "stream",
     "text": [
      "\u001b[1m1/1\u001b[0m \u001b[32m━━━━━━━━━━━━━━━━━━━━\u001b[0m\u001b[37m\u001b[0m \u001b[1m0s\u001b[0m 167ms/step\n",
      "Predicted Number of Viewers: 3.9347572\n",
      "\u001b[1m1/1\u001b[0m \u001b[32m━━━━━━━━━━━━━━━━━━━━\u001b[0m\u001b[37m\u001b[0m \u001b[1m0s\u001b[0m 167ms/step\n",
      "Predicted Number of Viewers: 2.9760983\n",
      "\u001b[1m1/1\u001b[0m \u001b[32m━━━━━━━━━━━━━━━━━━━━\u001b[0m\u001b[37m\u001b[0m \u001b[1m0s\u001b[0m 148ms/step\n",
      "Predicted Number of Viewers: 3.6099205\n",
      "\u001b[1m1/1\u001b[0m \u001b[32m━━━━━━━━━━━━━━━━━━━━\u001b[0m\u001b[37m\u001b[0m \u001b[1m0s\u001b[0m 138ms/step\n",
      "Predicted Number of Viewers: 4.7045217\n",
      "\u001b[1m1/1\u001b[0m \u001b[32m━━━━━━━━━━━━━━━━━━━━\u001b[0m\u001b[37m\u001b[0m \u001b[1m0s\u001b[0m 137ms/step\n",
      "Predicted Number of Viewers: 7.1269293\n",
      "\u001b[1m1/1\u001b[0m \u001b[32m━━━━━━━━━━━━━━━━━━━━\u001b[0m\u001b[37m\u001b[0m \u001b[1m0s\u001b[0m 119ms/step\n",
      "Predicted Number of Viewers: 5.4559236\n"
     ]
    },
    {
     "data": {
      "image/png": "[encoded data removed]",
      "text/plain": [
       "<Figure size 640x480 with 1 Axes>"
      ]
     },
     "metadata": {},
     "output_type": "display_data"
    }
   ],
   "source": [
    "#X_train['language'].value_counts()\n",
    "languages = ['en', 'es', 'ru', 'de', 'pt', 'fr']\n",
    "viewer_preds_langs = [predict_viewers(lang=x) for x in languages]\n",
    "plt.plot(viewer_preds_langs)\n",
    "plt.xticks(list(range(len(languages))), languages) # Set tick locations and labels\n",
    "plt.show()"
   ]
  },
  {
   "cell_type": "markdown",
   "id": "f547cf3a-f6b8-456e-896c-cc3f9f4a8822",
   "metadata": {},
   "source": [
    "Looks like Portugese is the way to go! It'll give us much more viewers than if we stream in English. This is probably because a significant amount of the Counter Strike player base (and active stream viewers) is in Brazil, where Portugese is the national language. "
   ]
  },
  {
   "cell_type": "markdown",
   "id": "981958a0-59c9-4ecc-b492-40c8b430854a",
   "metadata": {},
   "source": [
    "What about if we make our stream more family friendly?"
   ]
  },
  {
   "cell_type": "code",
   "execution_count": 130,
   "id": "e9e0f74e-fe66-4ab3-8b82-7d7340140b11",
   "metadata": {},
   "outputs": [
    {
     "name": "stdout",
     "output_type": "stream",
     "text": [
      "\u001b[1m1/1\u001b[0m \u001b[32m━━━━━━━━━━━━━━━━━━━━\u001b[0m\u001b[37m\u001b[0m \u001b[1m0s\u001b[0m 155ms/step\n",
      "Predicted Number of Viewers: 1.6857262\n"
     ]
    },
    {
     "data": {
      "text/plain": [
       "np.float32(1.6857262)"
      ]
     },
     "execution_count": 130,
     "metadata": {},
     "output_type": "execute_result"
    }
   ],
   "source": [
    "predict_viewers(is_mature=False)"
   ]
  },
  {
   "cell_type": "markdown",
   "id": "e10b4d35-ad50-48cd-81f0-b8d1a41f0436",
   "metadata": {},
   "source": [
    "Nope, this actually severely decreases our viewer count! This is probably because people that watch Counter Strike enjoy more mature content, given that it is a mature game. "
   ]
  },
  {
   "cell_type": "markdown",
   "id": "22994954-b966-42a7-a36f-bf5b133a5314",
   "metadata": {},
   "source": [
    "Finally, what if we change the game? Let's try some very different games, Minecraft, ROBLOX, League of Legends, Madden NFL 25, Genshin Impact, Street Fighter 6, and Mario Kart World. "
   ]
  },
  {
   "cell_type": "code",
   "execution_count": 131,
   "id": "3405a7a0-cc57-48ac-8576-ce7691af5fa0",
   "metadata": {},
   "outputs": [],
   "source": [
    "games = ['Minecraft','ROBLOX', 'League of Legends', 'Madden NFL 25', 'Genshin Impact', 'Street Fighter 6', 'Mario Kart World']"
   ]
  },
  {
   "cell_type": "code",
   "execution_count": 132,
   "id": "cff7f37b-ecbc-4d1f-9a4d-6a8bb43007de",
   "metadata": {},
   "outputs": [
    {
     "name": "stdout",
     "output_type": "stream",
     "text": [
      "\u001b[1m1/1\u001b[0m \u001b[32m━━━━━━━━━━━━━━━━━━━━\u001b[0m\u001b[37m\u001b[0m \u001b[1m0s\u001b[0m 171ms/step\n",
      "Predicted Number of Viewers: 3.526476\n",
      "\u001b[1m1/1\u001b[0m \u001b[32m━━━━━━━━━━━━━━━━━━━━\u001b[0m\u001b[37m\u001b[0m \u001b[1m0s\u001b[0m 157ms/step\n",
      "Predicted Number of Viewers: 1.8333786\n",
      "\u001b[1m1/1\u001b[0m \u001b[32m━━━━━━━━━━━━━━━━━━━━\u001b[0m\u001b[37m\u001b[0m \u001b[1m0s\u001b[0m 137ms/step\n",
      "Predicted Number of Viewers: 3.691926\n",
      "\u001b[1m1/1\u001b[0m \u001b[32m━━━━━━━━━━━━━━━━━━━━\u001b[0m\u001b[37m\u001b[0m \u001b[1m0s\u001b[0m 144ms/step\n",
      "Predicted Number of Viewers: 1.0357232\n",
      "\u001b[1m1/1\u001b[0m \u001b[32m━━━━━━━━━━━━━━━━━━━━\u001b[0m\u001b[37m\u001b[0m \u001b[1m0s\u001b[0m 137ms/step\n",
      "Predicted Number of Viewers: 2.5713186\n",
      "\u001b[1m1/1\u001b[0m \u001b[32m━━━━━━━━━━━━━━━━━━━━\u001b[0m\u001b[37m\u001b[0m \u001b[1m0s\u001b[0m 146ms/step\n",
      "Predicted Number of Viewers: 3.558229\n",
      "\u001b[1m1/1\u001b[0m \u001b[32m━━━━━━━━━━━━━━━━━━━━\u001b[0m\u001b[37m\u001b[0m \u001b[1m0s\u001b[0m 153ms/step\n",
      "Predicted Number of Viewers: 15.532322\n"
     ]
    },
    {
     "data": {
      "image/png": "[encoded data removed]",
      "text/plain": [
       "<Figure size 640x480 with 1 Axes>"
      ]
     },
     "metadata": {},
     "output_type": "display_data"
    },
    {
     "data": {
      "text/plain": [
       "[0, 1, 2, 3, 4, 5, 6]"
      ]
     },
     "execution_count": 132,
     "metadata": {},
     "output_type": "execute_result"
    }
   ],
   "source": [
    "viewer_preds_games = [predict_viewers(game=x) for x in games]\n",
    "plt.plot(viewer_preds_games)\n",
    "plt.xticks([0,1,2,3,4,5,6], viewer_preds_games) # Set tick locations and labels\n",
    "plt.show()\n",
    "list(range(len(viewer_preds_games)))"
   ]
  },
  {
   "cell_type": "markdown",
   "id": "e376e31c-b038-4356-bf3f-c4d7a2b0f341",
   "metadata": {},
   "source": [
    "Clearly, we need to switch games to Mario Kart! We'll get 15 viewers then."
   ]
  },
  {
   "cell_type": "markdown",
   "id": "bab2227d-e048-46c6-9de0-2e9ba455c909",
   "metadata": {},
   "source": [
    "So overall, we can either switch to streaming Mario Kart, or stream in Portugese to maximize our viewer count. "
   ]
  }
 ],
 "metadata": {
  "kernelspec": {
   "display_name": "Python 3 (ipykernel)",
   "language": "python",
   "name": "python3"
  },
  "language_info": {
   "codemirror_mode": {
    "name": "ipython",
    "version": 3
   },
   "file_extension": ".py",
   "mimetype": "text/x-python",
   "name": "python",
   "nbconvert_exporter": "python",
   "pygments_lexer": "ipython3",
   "version": "3.12.0"
  }
 },
 "nbformat": 4,
 "nbformat_minor": 5
}
